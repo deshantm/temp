{
  "nbformat": 4,
  "nbformat_minor": 0,
  "metadata": {
    "accelerator": "GPU",
    "colab": {
      "name": "Copy of LeNet5.ipynb",
      "provenance": []
    },
    "interpreter": {
      "hash": "8afadb82c8c635d284d204a78cd7f3b56094702ee8f92f25084bfbbc5b27362b"
    },
    "kernelspec": {
      "display_name": "Python 3 (ipykernel)",
      "language": "python",
      "name": "python3"
    },
    "language_info": {
      "codemirror_mode": {
        "name": "ipython",
        "version": 3
      },
      "file_extension": ".py",
      "mimetype": "text/x-python",
      "name": "python",
      "nbconvert_exporter": "python",
      "pygments_lexer": "ipython3",
      "version": "3.8.8"
    },
    "widgets": {
      "application/vnd.jupyter.widget-state+json": {
        "1dbb83fec79940f3b1efdb5831a4745f": {
          "model_module": "@jupyter-widgets/controls",
          "model_name": "HBoxModel",
          "model_module_version": "1.5.0",
          "state": {
            "_view_name": "HBoxView",
            "_dom_classes": [],
            "_model_name": "HBoxModel",
            "_view_module": "@jupyter-widgets/controls",
            "_model_module_version": "1.5.0",
            "_view_count": null,
            "_view_module_version": "1.5.0",
            "box_style": "",
            "layout": "IPY_MODEL_64cc931a97304ef7a12d8837b17086e6",
            "_model_module": "@jupyter-widgets/controls",
            "children": [
              "IPY_MODEL_83aca52687594054aae605e63791764c",
              "IPY_MODEL_5096005a1ab14d46b899f3383351042e",
              "IPY_MODEL_0b12ce2cc70e49a6800a5933638fa2d6"
            ]
          }
        },
        "64cc931a97304ef7a12d8837b17086e6": {
          "model_module": "@jupyter-widgets/base",
          "model_name": "LayoutModel",
          "model_module_version": "1.2.0",
          "state": {
            "_view_name": "LayoutView",
            "grid_template_rows": null,
            "right": null,
            "justify_content": null,
            "_view_module": "@jupyter-widgets/base",
            "overflow": null,
            "_model_module_version": "1.2.0",
            "_view_count": null,
            "flex_flow": null,
            "width": null,
            "min_width": null,
            "border": null,
            "align_items": null,
            "bottom": null,
            "_model_module": "@jupyter-widgets/base",
            "top": null,
            "grid_column": null,
            "overflow_y": null,
            "overflow_x": null,
            "grid_auto_flow": null,
            "grid_area": null,
            "grid_template_columns": null,
            "flex": null,
            "_model_name": "LayoutModel",
            "justify_items": null,
            "grid_row": null,
            "max_height": null,
            "align_content": null,
            "visibility": null,
            "align_self": null,
            "height": null,
            "min_height": null,
            "padding": null,
            "grid_auto_rows": null,
            "grid_gap": null,
            "max_width": null,
            "order": null,
            "_view_module_version": "1.2.0",
            "grid_template_areas": null,
            "object_position": null,
            "object_fit": null,
            "grid_auto_columns": null,
            "margin": null,
            "display": null,
            "left": null
          }
        },
        "83aca52687594054aae605e63791764c": {
          "model_module": "@jupyter-widgets/controls",
          "model_name": "HTMLModel",
          "model_module_version": "1.5.0",
          "state": {
            "_view_name": "HTMLView",
            "style": "IPY_MODEL_3890cc6d5a32472780a6ef0a2ce5c5d6",
            "_dom_classes": [],
            "description": "",
            "_model_name": "HTMLModel",
            "placeholder": "​",
            "_view_module": "@jupyter-widgets/controls",
            "_model_module_version": "1.5.0",
            "value": "",
            "_view_count": null,
            "_view_module_version": "1.5.0",
            "description_tooltip": null,
            "_model_module": "@jupyter-widgets/controls",
            "layout": "IPY_MODEL_90eb7a11f4c445f59e3ca5663b81a8f3"
          }
        },
        "5096005a1ab14d46b899f3383351042e": {
          "model_module": "@jupyter-widgets/controls",
          "model_name": "FloatProgressModel",
          "model_module_version": "1.5.0",
          "state": {
            "_view_name": "ProgressView",
            "style": "IPY_MODEL_cda2ee5cb14b4700a8b18d4e99a22004",
            "_dom_classes": [],
            "description": "",
            "_model_name": "FloatProgressModel",
            "bar_style": "success",
            "max": 9912422,
            "_view_module": "@jupyter-widgets/controls",
            "_model_module_version": "1.5.0",
            "value": 9912422,
            "_view_count": null,
            "_view_module_version": "1.5.0",
            "orientation": "horizontal",
            "min": 0,
            "description_tooltip": null,
            "_model_module": "@jupyter-widgets/controls",
            "layout": "IPY_MODEL_4e1f8408a6f64be6acc2f6fd6725129b"
          }
        },
        "0b12ce2cc70e49a6800a5933638fa2d6": {
          "model_module": "@jupyter-widgets/controls",
          "model_name": "HTMLModel",
          "model_module_version": "1.5.0",
          "state": {
            "_view_name": "HTMLView",
            "style": "IPY_MODEL_1edb812ad81e4471adef912f500af9bc",
            "_dom_classes": [],
            "description": "",
            "_model_name": "HTMLModel",
            "placeholder": "​",
            "_view_module": "@jupyter-widgets/controls",
            "_model_module_version": "1.5.0",
            "value": " 9913344/? [00:00&lt;00:00, 49869989.13it/s]",
            "_view_count": null,
            "_view_module_version": "1.5.0",
            "description_tooltip": null,
            "_model_module": "@jupyter-widgets/controls",
            "layout": "IPY_MODEL_5fe32eb5360644b79d7441de890b4879"
          }
        },
        "3890cc6d5a32472780a6ef0a2ce5c5d6": {
          "model_module": "@jupyter-widgets/controls",
          "model_name": "DescriptionStyleModel",
          "model_module_version": "1.5.0",
          "state": {
            "_view_name": "StyleView",
            "_model_name": "DescriptionStyleModel",
            "description_width": "",
            "_view_module": "@jupyter-widgets/base",
            "_model_module_version": "1.5.0",
            "_view_count": null,
            "_view_module_version": "1.2.0",
            "_model_module": "@jupyter-widgets/controls"
          }
        },
        "90eb7a11f4c445f59e3ca5663b81a8f3": {
          "model_module": "@jupyter-widgets/base",
          "model_name": "LayoutModel",
          "model_module_version": "1.2.0",
          "state": {
            "_view_name": "LayoutView",
            "grid_template_rows": null,
            "right": null,
            "justify_content": null,
            "_view_module": "@jupyter-widgets/base",
            "overflow": null,
            "_model_module_version": "1.2.0",
            "_view_count": null,
            "flex_flow": null,
            "width": null,
            "min_width": null,
            "border": null,
            "align_items": null,
            "bottom": null,
            "_model_module": "@jupyter-widgets/base",
            "top": null,
            "grid_column": null,
            "overflow_y": null,
            "overflow_x": null,
            "grid_auto_flow": null,
            "grid_area": null,
            "grid_template_columns": null,
            "flex": null,
            "_model_name": "LayoutModel",
            "justify_items": null,
            "grid_row": null,
            "max_height": null,
            "align_content": null,
            "visibility": null,
            "align_self": null,
            "height": null,
            "min_height": null,
            "padding": null,
            "grid_auto_rows": null,
            "grid_gap": null,
            "max_width": null,
            "order": null,
            "_view_module_version": "1.2.0",
            "grid_template_areas": null,
            "object_position": null,
            "object_fit": null,
            "grid_auto_columns": null,
            "margin": null,
            "display": null,
            "left": null
          }
        },
        "cda2ee5cb14b4700a8b18d4e99a22004": {
          "model_module": "@jupyter-widgets/controls",
          "model_name": "ProgressStyleModel",
          "model_module_version": "1.5.0",
          "state": {
            "_view_name": "StyleView",
            "_model_name": "ProgressStyleModel",
            "description_width": "",
            "_view_module": "@jupyter-widgets/base",
            "_model_module_version": "1.5.0",
            "_view_count": null,
            "_view_module_version": "1.2.0",
            "bar_color": null,
            "_model_module": "@jupyter-widgets/controls"
          }
        },
        "4e1f8408a6f64be6acc2f6fd6725129b": {
          "model_module": "@jupyter-widgets/base",
          "model_name": "LayoutModel",
          "model_module_version": "1.2.0",
          "state": {
            "_view_name": "LayoutView",
            "grid_template_rows": null,
            "right": null,
            "justify_content": null,
            "_view_module": "@jupyter-widgets/base",
            "overflow": null,
            "_model_module_version": "1.2.0",
            "_view_count": null,
            "flex_flow": null,
            "width": null,
            "min_width": null,
            "border": null,
            "align_items": null,
            "bottom": null,
            "_model_module": "@jupyter-widgets/base",
            "top": null,
            "grid_column": null,
            "overflow_y": null,
            "overflow_x": null,
            "grid_auto_flow": null,
            "grid_area": null,
            "grid_template_columns": null,
            "flex": null,
            "_model_name": "LayoutModel",
            "justify_items": null,
            "grid_row": null,
            "max_height": null,
            "align_content": null,
            "visibility": null,
            "align_self": null,
            "height": null,
            "min_height": null,
            "padding": null,
            "grid_auto_rows": null,
            "grid_gap": null,
            "max_width": null,
            "order": null,
            "_view_module_version": "1.2.0",
            "grid_template_areas": null,
            "object_position": null,
            "object_fit": null,
            "grid_auto_columns": null,
            "margin": null,
            "display": null,
            "left": null
          }
        },
        "1edb812ad81e4471adef912f500af9bc": {
          "model_module": "@jupyter-widgets/controls",
          "model_name": "DescriptionStyleModel",
          "model_module_version": "1.5.0",
          "state": {
            "_view_name": "StyleView",
            "_model_name": "DescriptionStyleModel",
            "description_width": "",
            "_view_module": "@jupyter-widgets/base",
            "_model_module_version": "1.5.0",
            "_view_count": null,
            "_view_module_version": "1.2.0",
            "_model_module": "@jupyter-widgets/controls"
          }
        },
        "5fe32eb5360644b79d7441de890b4879": {
          "model_module": "@jupyter-widgets/base",
          "model_name": "LayoutModel",
          "model_module_version": "1.2.0",
          "state": {
            "_view_name": "LayoutView",
            "grid_template_rows": null,
            "right": null,
            "justify_content": null,
            "_view_module": "@jupyter-widgets/base",
            "overflow": null,
            "_model_module_version": "1.2.0",
            "_view_count": null,
            "flex_flow": null,
            "width": null,
            "min_width": null,
            "border": null,
            "align_items": null,
            "bottom": null,
            "_model_module": "@jupyter-widgets/base",
            "top": null,
            "grid_column": null,
            "overflow_y": null,
            "overflow_x": null,
            "grid_auto_flow": null,
            "grid_area": null,
            "grid_template_columns": null,
            "flex": null,
            "_model_name": "LayoutModel",
            "justify_items": null,
            "grid_row": null,
            "max_height": null,
            "align_content": null,
            "visibility": null,
            "align_self": null,
            "height": null,
            "min_height": null,
            "padding": null,
            "grid_auto_rows": null,
            "grid_gap": null,
            "max_width": null,
            "order": null,
            "_view_module_version": "1.2.0",
            "grid_template_areas": null,
            "object_position": null,
            "object_fit": null,
            "grid_auto_columns": null,
            "margin": null,
            "display": null,
            "left": null
          }
        },
        "3baed2ab53464e74b51814cdfb239f64": {
          "model_module": "@jupyter-widgets/controls",
          "model_name": "HBoxModel",
          "model_module_version": "1.5.0",
          "state": {
            "_view_name": "HBoxView",
            "_dom_classes": [],
            "_model_name": "HBoxModel",
            "_view_module": "@jupyter-widgets/controls",
            "_model_module_version": "1.5.0",
            "_view_count": null,
            "_view_module_version": "1.5.0",
            "box_style": "",
            "layout": "IPY_MODEL_bf8aec51f0af4a4898cc303b547986e9",
            "_model_module": "@jupyter-widgets/controls",
            "children": [
              "IPY_MODEL_a8a3f550b2fd46b9b62bf0bd0d22cb7c",
              "IPY_MODEL_72399c76d6ae4b67beab662477af11e1",
              "IPY_MODEL_c7efedcc3f01437b8939e22d7271f403"
            ]
          }
        },
        "bf8aec51f0af4a4898cc303b547986e9": {
          "model_module": "@jupyter-widgets/base",
          "model_name": "LayoutModel",
          "model_module_version": "1.2.0",
          "state": {
            "_view_name": "LayoutView",
            "grid_template_rows": null,
            "right": null,
            "justify_content": null,
            "_view_module": "@jupyter-widgets/base",
            "overflow": null,
            "_model_module_version": "1.2.0",
            "_view_count": null,
            "flex_flow": null,
            "width": null,
            "min_width": null,
            "border": null,
            "align_items": null,
            "bottom": null,
            "_model_module": "@jupyter-widgets/base",
            "top": null,
            "grid_column": null,
            "overflow_y": null,
            "overflow_x": null,
            "grid_auto_flow": null,
            "grid_area": null,
            "grid_template_columns": null,
            "flex": null,
            "_model_name": "LayoutModel",
            "justify_items": null,
            "grid_row": null,
            "max_height": null,
            "align_content": null,
            "visibility": null,
            "align_self": null,
            "height": null,
            "min_height": null,
            "padding": null,
            "grid_auto_rows": null,
            "grid_gap": null,
            "max_width": null,
            "order": null,
            "_view_module_version": "1.2.0",
            "grid_template_areas": null,
            "object_position": null,
            "object_fit": null,
            "grid_auto_columns": null,
            "margin": null,
            "display": null,
            "left": null
          }
        },
        "a8a3f550b2fd46b9b62bf0bd0d22cb7c": {
          "model_module": "@jupyter-widgets/controls",
          "model_name": "HTMLModel",
          "model_module_version": "1.5.0",
          "state": {
            "_view_name": "HTMLView",
            "style": "IPY_MODEL_59bc04bc6f3d45c6b6a73df92530a9ff",
            "_dom_classes": [],
            "description": "",
            "_model_name": "HTMLModel",
            "placeholder": "​",
            "_view_module": "@jupyter-widgets/controls",
            "_model_module_version": "1.5.0",
            "value": "",
            "_view_count": null,
            "_view_module_version": "1.5.0",
            "description_tooltip": null,
            "_model_module": "@jupyter-widgets/controls",
            "layout": "IPY_MODEL_45f57b340df14b2f9ff4391a4f8e1064"
          }
        },
        "72399c76d6ae4b67beab662477af11e1": {
          "model_module": "@jupyter-widgets/controls",
          "model_name": "FloatProgressModel",
          "model_module_version": "1.5.0",
          "state": {
            "_view_name": "ProgressView",
            "style": "IPY_MODEL_67cfca124fd747dda79e42dcaaef57ed",
            "_dom_classes": [],
            "description": "",
            "_model_name": "FloatProgressModel",
            "bar_style": "success",
            "max": 28881,
            "_view_module": "@jupyter-widgets/controls",
            "_model_module_version": "1.5.0",
            "value": 28881,
            "_view_count": null,
            "_view_module_version": "1.5.0",
            "orientation": "horizontal",
            "min": 0,
            "description_tooltip": null,
            "_model_module": "@jupyter-widgets/controls",
            "layout": "IPY_MODEL_4eb0205e5a494ffc99381acd95702810"
          }
        },
        "c7efedcc3f01437b8939e22d7271f403": {
          "model_module": "@jupyter-widgets/controls",
          "model_name": "HTMLModel",
          "model_module_version": "1.5.0",
          "state": {
            "_view_name": "HTMLView",
            "style": "IPY_MODEL_0c471e5163854bf4a43fc2422aa6c570",
            "_dom_classes": [],
            "description": "",
            "_model_name": "HTMLModel",
            "placeholder": "​",
            "_view_module": "@jupyter-widgets/controls",
            "_model_module_version": "1.5.0",
            "value": " 29696/? [00:00&lt;00:00, 878954.83it/s]",
            "_view_count": null,
            "_view_module_version": "1.5.0",
            "description_tooltip": null,
            "_model_module": "@jupyter-widgets/controls",
            "layout": "IPY_MODEL_091766ad92f14de5aa2ae0b4e9820cc7"
          }
        },
        "59bc04bc6f3d45c6b6a73df92530a9ff": {
          "model_module": "@jupyter-widgets/controls",
          "model_name": "DescriptionStyleModel",
          "model_module_version": "1.5.0",
          "state": {
            "_view_name": "StyleView",
            "_model_name": "DescriptionStyleModel",
            "description_width": "",
            "_view_module": "@jupyter-widgets/base",
            "_model_module_version": "1.5.0",
            "_view_count": null,
            "_view_module_version": "1.2.0",
            "_model_module": "@jupyter-widgets/controls"
          }
        },
        "45f57b340df14b2f9ff4391a4f8e1064": {
          "model_module": "@jupyter-widgets/base",
          "model_name": "LayoutModel",
          "model_module_version": "1.2.0",
          "state": {
            "_view_name": "LayoutView",
            "grid_template_rows": null,
            "right": null,
            "justify_content": null,
            "_view_module": "@jupyter-widgets/base",
            "overflow": null,
            "_model_module_version": "1.2.0",
            "_view_count": null,
            "flex_flow": null,
            "width": null,
            "min_width": null,
            "border": null,
            "align_items": null,
            "bottom": null,
            "_model_module": "@jupyter-widgets/base",
            "top": null,
            "grid_column": null,
            "overflow_y": null,
            "overflow_x": null,
            "grid_auto_flow": null,
            "grid_area": null,
            "grid_template_columns": null,
            "flex": null,
            "_model_name": "LayoutModel",
            "justify_items": null,
            "grid_row": null,
            "max_height": null,
            "align_content": null,
            "visibility": null,
            "align_self": null,
            "height": null,
            "min_height": null,
            "padding": null,
            "grid_auto_rows": null,
            "grid_gap": null,
            "max_width": null,
            "order": null,
            "_view_module_version": "1.2.0",
            "grid_template_areas": null,
            "object_position": null,
            "object_fit": null,
            "grid_auto_columns": null,
            "margin": null,
            "display": null,
            "left": null
          }
        },
        "67cfca124fd747dda79e42dcaaef57ed": {
          "model_module": "@jupyter-widgets/controls",
          "model_name": "ProgressStyleModel",
          "model_module_version": "1.5.0",
          "state": {
            "_view_name": "StyleView",
            "_model_name": "ProgressStyleModel",
            "description_width": "",
            "_view_module": "@jupyter-widgets/base",
            "_model_module_version": "1.5.0",
            "_view_count": null,
            "_view_module_version": "1.2.0",
            "bar_color": null,
            "_model_module": "@jupyter-widgets/controls"
          }
        },
        "4eb0205e5a494ffc99381acd95702810": {
          "model_module": "@jupyter-widgets/base",
          "model_name": "LayoutModel",
          "model_module_version": "1.2.0",
          "state": {
            "_view_name": "LayoutView",
            "grid_template_rows": null,
            "right": null,
            "justify_content": null,
            "_view_module": "@jupyter-widgets/base",
            "overflow": null,
            "_model_module_version": "1.2.0",
            "_view_count": null,
            "flex_flow": null,
            "width": null,
            "min_width": null,
            "border": null,
            "align_items": null,
            "bottom": null,
            "_model_module": "@jupyter-widgets/base",
            "top": null,
            "grid_column": null,
            "overflow_y": null,
            "overflow_x": null,
            "grid_auto_flow": null,
            "grid_area": null,
            "grid_template_columns": null,
            "flex": null,
            "_model_name": "LayoutModel",
            "justify_items": null,
            "grid_row": null,
            "max_height": null,
            "align_content": null,
            "visibility": null,
            "align_self": null,
            "height": null,
            "min_height": null,
            "padding": null,
            "grid_auto_rows": null,
            "grid_gap": null,
            "max_width": null,
            "order": null,
            "_view_module_version": "1.2.0",
            "grid_template_areas": null,
            "object_position": null,
            "object_fit": null,
            "grid_auto_columns": null,
            "margin": null,
            "display": null,
            "left": null
          }
        },
        "0c471e5163854bf4a43fc2422aa6c570": {
          "model_module": "@jupyter-widgets/controls",
          "model_name": "DescriptionStyleModel",
          "model_module_version": "1.5.0",
          "state": {
            "_view_name": "StyleView",
            "_model_name": "DescriptionStyleModel",
            "description_width": "",
            "_view_module": "@jupyter-widgets/base",
            "_model_module_version": "1.5.0",
            "_view_count": null,
            "_view_module_version": "1.2.0",
            "_model_module": "@jupyter-widgets/controls"
          }
        },
        "091766ad92f14de5aa2ae0b4e9820cc7": {
          "model_module": "@jupyter-widgets/base",
          "model_name": "LayoutModel",
          "model_module_version": "1.2.0",
          "state": {
            "_view_name": "LayoutView",
            "grid_template_rows": null,
            "right": null,
            "justify_content": null,
            "_view_module": "@jupyter-widgets/base",
            "overflow": null,
            "_model_module_version": "1.2.0",
            "_view_count": null,
            "flex_flow": null,
            "width": null,
            "min_width": null,
            "border": null,
            "align_items": null,
            "bottom": null,
            "_model_module": "@jupyter-widgets/base",
            "top": null,
            "grid_column": null,
            "overflow_y": null,
            "overflow_x": null,
            "grid_auto_flow": null,
            "grid_area": null,
            "grid_template_columns": null,
            "flex": null,
            "_model_name": "LayoutModel",
            "justify_items": null,
            "grid_row": null,
            "max_height": null,
            "align_content": null,
            "visibility": null,
            "align_self": null,
            "height": null,
            "min_height": null,
            "padding": null,
            "grid_auto_rows": null,
            "grid_gap": null,
            "max_width": null,
            "order": null,
            "_view_module_version": "1.2.0",
            "grid_template_areas": null,
            "object_position": null,
            "object_fit": null,
            "grid_auto_columns": null,
            "margin": null,
            "display": null,
            "left": null
          }
        },
        "ca41b36879ab492095d901a3b1f7d4ac": {
          "model_module": "@jupyter-widgets/controls",
          "model_name": "HBoxModel",
          "model_module_version": "1.5.0",
          "state": {
            "_view_name": "HBoxView",
            "_dom_classes": [],
            "_model_name": "HBoxModel",
            "_view_module": "@jupyter-widgets/controls",
            "_model_module_version": "1.5.0",
            "_view_count": null,
            "_view_module_version": "1.5.0",
            "box_style": "",
            "layout": "IPY_MODEL_754084511d594cc19c15fa99a22d9108",
            "_model_module": "@jupyter-widgets/controls",
            "children": [
              "IPY_MODEL_dd308d8158f4430ab23047900100e673",
              "IPY_MODEL_7e3533c0c6f245d7be3a5dbf777c9fee",
              "IPY_MODEL_e0fbec2eef43432a802e4ad7dadde864"
            ]
          }
        },
        "754084511d594cc19c15fa99a22d9108": {
          "model_module": "@jupyter-widgets/base",
          "model_name": "LayoutModel",
          "model_module_version": "1.2.0",
          "state": {
            "_view_name": "LayoutView",
            "grid_template_rows": null,
            "right": null,
            "justify_content": null,
            "_view_module": "@jupyter-widgets/base",
            "overflow": null,
            "_model_module_version": "1.2.0",
            "_view_count": null,
            "flex_flow": null,
            "width": null,
            "min_width": null,
            "border": null,
            "align_items": null,
            "bottom": null,
            "_model_module": "@jupyter-widgets/base",
            "top": null,
            "grid_column": null,
            "overflow_y": null,
            "overflow_x": null,
            "grid_auto_flow": null,
            "grid_area": null,
            "grid_template_columns": null,
            "flex": null,
            "_model_name": "LayoutModel",
            "justify_items": null,
            "grid_row": null,
            "max_height": null,
            "align_content": null,
            "visibility": null,
            "align_self": null,
            "height": null,
            "min_height": null,
            "padding": null,
            "grid_auto_rows": null,
            "grid_gap": null,
            "max_width": null,
            "order": null,
            "_view_module_version": "1.2.0",
            "grid_template_areas": null,
            "object_position": null,
            "object_fit": null,
            "grid_auto_columns": null,
            "margin": null,
            "display": null,
            "left": null
          }
        },
        "dd308d8158f4430ab23047900100e673": {
          "model_module": "@jupyter-widgets/controls",
          "model_name": "HTMLModel",
          "model_module_version": "1.5.0",
          "state": {
            "_view_name": "HTMLView",
            "style": "IPY_MODEL_1a7571cc787f41f6ad1daa5d0060e4cd",
            "_dom_classes": [],
            "description": "",
            "_model_name": "HTMLModel",
            "placeholder": "​",
            "_view_module": "@jupyter-widgets/controls",
            "_model_module_version": "1.5.0",
            "value": "",
            "_view_count": null,
            "_view_module_version": "1.5.0",
            "description_tooltip": null,
            "_model_module": "@jupyter-widgets/controls",
            "layout": "IPY_MODEL_63a03c790bb942f6a5a9c96c398de80a"
          }
        },
        "7e3533c0c6f245d7be3a5dbf777c9fee": {
          "model_module": "@jupyter-widgets/controls",
          "model_name": "FloatProgressModel",
          "model_module_version": "1.5.0",
          "state": {
            "_view_name": "ProgressView",
            "style": "IPY_MODEL_3f0ddf6a2e2a4070b767520f359374fa",
            "_dom_classes": [],
            "description": "",
            "_model_name": "FloatProgressModel",
            "bar_style": "success",
            "max": 1648877,
            "_view_module": "@jupyter-widgets/controls",
            "_model_module_version": "1.5.0",
            "value": 1648877,
            "_view_count": null,
            "_view_module_version": "1.5.0",
            "orientation": "horizontal",
            "min": 0,
            "description_tooltip": null,
            "_model_module": "@jupyter-widgets/controls",
            "layout": "IPY_MODEL_2f74e82ffdb24aa1a0e2409943560284"
          }
        },
        "e0fbec2eef43432a802e4ad7dadde864": {
          "model_module": "@jupyter-widgets/controls",
          "model_name": "HTMLModel",
          "model_module_version": "1.5.0",
          "state": {
            "_view_name": "HTMLView",
            "style": "IPY_MODEL_7dc05976985b4a0e854f169f40eb3486",
            "_dom_classes": [],
            "description": "",
            "_model_name": "HTMLModel",
            "placeholder": "​",
            "_view_module": "@jupyter-widgets/controls",
            "_model_module_version": "1.5.0",
            "value": " 1649664/? [00:00&lt;00:00, 11932619.89it/s]",
            "_view_count": null,
            "_view_module_version": "1.5.0",
            "description_tooltip": null,
            "_model_module": "@jupyter-widgets/controls",
            "layout": "IPY_MODEL_458b6fee7ce24338adad7c8cc48d7db5"
          }
        },
        "1a7571cc787f41f6ad1daa5d0060e4cd": {
          "model_module": "@jupyter-widgets/controls",
          "model_name": "DescriptionStyleModel",
          "model_module_version": "1.5.0",
          "state": {
            "_view_name": "StyleView",
            "_model_name": "DescriptionStyleModel",
            "description_width": "",
            "_view_module": "@jupyter-widgets/base",
            "_model_module_version": "1.5.0",
            "_view_count": null,
            "_view_module_version": "1.2.0",
            "_model_module": "@jupyter-widgets/controls"
          }
        },
        "63a03c790bb942f6a5a9c96c398de80a": {
          "model_module": "@jupyter-widgets/base",
          "model_name": "LayoutModel",
          "model_module_version": "1.2.0",
          "state": {
            "_view_name": "LayoutView",
            "grid_template_rows": null,
            "right": null,
            "justify_content": null,
            "_view_module": "@jupyter-widgets/base",
            "overflow": null,
            "_model_module_version": "1.2.0",
            "_view_count": null,
            "flex_flow": null,
            "width": null,
            "min_width": null,
            "border": null,
            "align_items": null,
            "bottom": null,
            "_model_module": "@jupyter-widgets/base",
            "top": null,
            "grid_column": null,
            "overflow_y": null,
            "overflow_x": null,
            "grid_auto_flow": null,
            "grid_area": null,
            "grid_template_columns": null,
            "flex": null,
            "_model_name": "LayoutModel",
            "justify_items": null,
            "grid_row": null,
            "max_height": null,
            "align_content": null,
            "visibility": null,
            "align_self": null,
            "height": null,
            "min_height": null,
            "padding": null,
            "grid_auto_rows": null,
            "grid_gap": null,
            "max_width": null,
            "order": null,
            "_view_module_version": "1.2.0",
            "grid_template_areas": null,
            "object_position": null,
            "object_fit": null,
            "grid_auto_columns": null,
            "margin": null,
            "display": null,
            "left": null
          }
        },
        "3f0ddf6a2e2a4070b767520f359374fa": {
          "model_module": "@jupyter-widgets/controls",
          "model_name": "ProgressStyleModel",
          "model_module_version": "1.5.0",
          "state": {
            "_view_name": "StyleView",
            "_model_name": "ProgressStyleModel",
            "description_width": "",
            "_view_module": "@jupyter-widgets/base",
            "_model_module_version": "1.5.0",
            "_view_count": null,
            "_view_module_version": "1.2.0",
            "bar_color": null,
            "_model_module": "@jupyter-widgets/controls"
          }
        },
        "2f74e82ffdb24aa1a0e2409943560284": {
          "model_module": "@jupyter-widgets/base",
          "model_name": "LayoutModel",
          "model_module_version": "1.2.0",
          "state": {
            "_view_name": "LayoutView",
            "grid_template_rows": null,
            "right": null,
            "justify_content": null,
            "_view_module": "@jupyter-widgets/base",
            "overflow": null,
            "_model_module_version": "1.2.0",
            "_view_count": null,
            "flex_flow": null,
            "width": null,
            "min_width": null,
            "border": null,
            "align_items": null,
            "bottom": null,
            "_model_module": "@jupyter-widgets/base",
            "top": null,
            "grid_column": null,
            "overflow_y": null,
            "overflow_x": null,
            "grid_auto_flow": null,
            "grid_area": null,
            "grid_template_columns": null,
            "flex": null,
            "_model_name": "LayoutModel",
            "justify_items": null,
            "grid_row": null,
            "max_height": null,
            "align_content": null,
            "visibility": null,
            "align_self": null,
            "height": null,
            "min_height": null,
            "padding": null,
            "grid_auto_rows": null,
            "grid_gap": null,
            "max_width": null,
            "order": null,
            "_view_module_version": "1.2.0",
            "grid_template_areas": null,
            "object_position": null,
            "object_fit": null,
            "grid_auto_columns": null,
            "margin": null,
            "display": null,
            "left": null
          }
        },
        "7dc05976985b4a0e854f169f40eb3486": {
          "model_module": "@jupyter-widgets/controls",
          "model_name": "DescriptionStyleModel",
          "model_module_version": "1.5.0",
          "state": {
            "_view_name": "StyleView",
            "_model_name": "DescriptionStyleModel",
            "description_width": "",
            "_view_module": "@jupyter-widgets/base",
            "_model_module_version": "1.5.0",
            "_view_count": null,
            "_view_module_version": "1.2.0",
            "_model_module": "@jupyter-widgets/controls"
          }
        },
        "458b6fee7ce24338adad7c8cc48d7db5": {
          "model_module": "@jupyter-widgets/base",
          "model_name": "LayoutModel",
          "model_module_version": "1.2.0",
          "state": {
            "_view_name": "LayoutView",
            "grid_template_rows": null,
            "right": null,
            "justify_content": null,
            "_view_module": "@jupyter-widgets/base",
            "overflow": null,
            "_model_module_version": "1.2.0",
            "_view_count": null,
            "flex_flow": null,
            "width": null,
            "min_width": null,
            "border": null,
            "align_items": null,
            "bottom": null,
            "_model_module": "@jupyter-widgets/base",
            "top": null,
            "grid_column": null,
            "overflow_y": null,
            "overflow_x": null,
            "grid_auto_flow": null,
            "grid_area": null,
            "grid_template_columns": null,
            "flex": null,
            "_model_name": "LayoutModel",
            "justify_items": null,
            "grid_row": null,
            "max_height": null,
            "align_content": null,
            "visibility": null,
            "align_self": null,
            "height": null,
            "min_height": null,
            "padding": null,
            "grid_auto_rows": null,
            "grid_gap": null,
            "max_width": null,
            "order": null,
            "_view_module_version": "1.2.0",
            "grid_template_areas": null,
            "object_position": null,
            "object_fit": null,
            "grid_auto_columns": null,
            "margin": null,
            "display": null,
            "left": null
          }
        },
        "50c6bed9f62341f19fee66e741a1de26": {
          "model_module": "@jupyter-widgets/controls",
          "model_name": "HBoxModel",
          "model_module_version": "1.5.0",
          "state": {
            "_view_name": "HBoxView",
            "_dom_classes": [],
            "_model_name": "HBoxModel",
            "_view_module": "@jupyter-widgets/controls",
            "_model_module_version": "1.5.0",
            "_view_count": null,
            "_view_module_version": "1.5.0",
            "box_style": "",
            "layout": "IPY_MODEL_978082d11ade4867b1f221c8d9123afc",
            "_model_module": "@jupyter-widgets/controls",
            "children": [
              "IPY_MODEL_bc1d605f2a834fd4bfbdb2a8a7505d34",
              "IPY_MODEL_7c4158abe9644b06a503e1b0fcda509e",
              "IPY_MODEL_e99b9c59e5c345d38a3e5df2705273b8"
            ]
          }
        },
        "978082d11ade4867b1f221c8d9123afc": {
          "model_module": "@jupyter-widgets/base",
          "model_name": "LayoutModel",
          "model_module_version": "1.2.0",
          "state": {
            "_view_name": "LayoutView",
            "grid_template_rows": null,
            "right": null,
            "justify_content": null,
            "_view_module": "@jupyter-widgets/base",
            "overflow": null,
            "_model_module_version": "1.2.0",
            "_view_count": null,
            "flex_flow": null,
            "width": null,
            "min_width": null,
            "border": null,
            "align_items": null,
            "bottom": null,
            "_model_module": "@jupyter-widgets/base",
            "top": null,
            "grid_column": null,
            "overflow_y": null,
            "overflow_x": null,
            "grid_auto_flow": null,
            "grid_area": null,
            "grid_template_columns": null,
            "flex": null,
            "_model_name": "LayoutModel",
            "justify_items": null,
            "grid_row": null,
            "max_height": null,
            "align_content": null,
            "visibility": null,
            "align_self": null,
            "height": null,
            "min_height": null,
            "padding": null,
            "grid_auto_rows": null,
            "grid_gap": null,
            "max_width": null,
            "order": null,
            "_view_module_version": "1.2.0",
            "grid_template_areas": null,
            "object_position": null,
            "object_fit": null,
            "grid_auto_columns": null,
            "margin": null,
            "display": null,
            "left": null
          }
        },
        "bc1d605f2a834fd4bfbdb2a8a7505d34": {
          "model_module": "@jupyter-widgets/controls",
          "model_name": "HTMLModel",
          "model_module_version": "1.5.0",
          "state": {
            "_view_name": "HTMLView",
            "style": "IPY_MODEL_f82cb5461e77459699cb03b284b10182",
            "_dom_classes": [],
            "description": "",
            "_model_name": "HTMLModel",
            "placeholder": "​",
            "_view_module": "@jupyter-widgets/controls",
            "_model_module_version": "1.5.0",
            "value": "",
            "_view_count": null,
            "_view_module_version": "1.5.0",
            "description_tooltip": null,
            "_model_module": "@jupyter-widgets/controls",
            "layout": "IPY_MODEL_4247d2ba936d4b5ebfe2eedb509d7ac8"
          }
        },
        "7c4158abe9644b06a503e1b0fcda509e": {
          "model_module": "@jupyter-widgets/controls",
          "model_name": "FloatProgressModel",
          "model_module_version": "1.5.0",
          "state": {
            "_view_name": "ProgressView",
            "style": "IPY_MODEL_7860c900d1734a4bba6603631a611b41",
            "_dom_classes": [],
            "description": "",
            "_model_name": "FloatProgressModel",
            "bar_style": "success",
            "max": 4542,
            "_view_module": "@jupyter-widgets/controls",
            "_model_module_version": "1.5.0",
            "value": 4542,
            "_view_count": null,
            "_view_module_version": "1.5.0",
            "orientation": "horizontal",
            "min": 0,
            "description_tooltip": null,
            "_model_module": "@jupyter-widgets/controls",
            "layout": "IPY_MODEL_44c5d2e09b754fc69401d53b62b96c09"
          }
        },
        "e99b9c59e5c345d38a3e5df2705273b8": {
          "model_module": "@jupyter-widgets/controls",
          "model_name": "HTMLModel",
          "model_module_version": "1.5.0",
          "state": {
            "_view_name": "HTMLView",
            "style": "IPY_MODEL_8dbd19d4138a4ab79717b09da357ccc3",
            "_dom_classes": [],
            "description": "",
            "_model_name": "HTMLModel",
            "placeholder": "​",
            "_view_module": "@jupyter-widgets/controls",
            "_model_module_version": "1.5.0",
            "value": " 5120/? [00:00&lt;00:00, 140890.66it/s]",
            "_view_count": null,
            "_view_module_version": "1.5.0",
            "description_tooltip": null,
            "_model_module": "@jupyter-widgets/controls",
            "layout": "IPY_MODEL_b19cace1459f4a688a70d2b18d8e1f2e"
          }
        },
        "f82cb5461e77459699cb03b284b10182": {
          "model_module": "@jupyter-widgets/controls",
          "model_name": "DescriptionStyleModel",
          "model_module_version": "1.5.0",
          "state": {
            "_view_name": "StyleView",
            "_model_name": "DescriptionStyleModel",
            "description_width": "",
            "_view_module": "@jupyter-widgets/base",
            "_model_module_version": "1.5.0",
            "_view_count": null,
            "_view_module_version": "1.2.0",
            "_model_module": "@jupyter-widgets/controls"
          }
        },
        "4247d2ba936d4b5ebfe2eedb509d7ac8": {
          "model_module": "@jupyter-widgets/base",
          "model_name": "LayoutModel",
          "model_module_version": "1.2.0",
          "state": {
            "_view_name": "LayoutView",
            "grid_template_rows": null,
            "right": null,
            "justify_content": null,
            "_view_module": "@jupyter-widgets/base",
            "overflow": null,
            "_model_module_version": "1.2.0",
            "_view_count": null,
            "flex_flow": null,
            "width": null,
            "min_width": null,
            "border": null,
            "align_items": null,
            "bottom": null,
            "_model_module": "@jupyter-widgets/base",
            "top": null,
            "grid_column": null,
            "overflow_y": null,
            "overflow_x": null,
            "grid_auto_flow": null,
            "grid_area": null,
            "grid_template_columns": null,
            "flex": null,
            "_model_name": "LayoutModel",
            "justify_items": null,
            "grid_row": null,
            "max_height": null,
            "align_content": null,
            "visibility": null,
            "align_self": null,
            "height": null,
            "min_height": null,
            "padding": null,
            "grid_auto_rows": null,
            "grid_gap": null,
            "max_width": null,
            "order": null,
            "_view_module_version": "1.2.0",
            "grid_template_areas": null,
            "object_position": null,
            "object_fit": null,
            "grid_auto_columns": null,
            "margin": null,
            "display": null,
            "left": null
          }
        },
        "7860c900d1734a4bba6603631a611b41": {
          "model_module": "@jupyter-widgets/controls",
          "model_name": "ProgressStyleModel",
          "model_module_version": "1.5.0",
          "state": {
            "_view_name": "StyleView",
            "_model_name": "ProgressStyleModel",
            "description_width": "",
            "_view_module": "@jupyter-widgets/base",
            "_model_module_version": "1.5.0",
            "_view_count": null,
            "_view_module_version": "1.2.0",
            "bar_color": null,
            "_model_module": "@jupyter-widgets/controls"
          }
        },
        "44c5d2e09b754fc69401d53b62b96c09": {
          "model_module": "@jupyter-widgets/base",
          "model_name": "LayoutModel",
          "model_module_version": "1.2.0",
          "state": {
            "_view_name": "LayoutView",
            "grid_template_rows": null,
            "right": null,
            "justify_content": null,
            "_view_module": "@jupyter-widgets/base",
            "overflow": null,
            "_model_module_version": "1.2.0",
            "_view_count": null,
            "flex_flow": null,
            "width": null,
            "min_width": null,
            "border": null,
            "align_items": null,
            "bottom": null,
            "_model_module": "@jupyter-widgets/base",
            "top": null,
            "grid_column": null,
            "overflow_y": null,
            "overflow_x": null,
            "grid_auto_flow": null,
            "grid_area": null,
            "grid_template_columns": null,
            "flex": null,
            "_model_name": "LayoutModel",
            "justify_items": null,
            "grid_row": null,
            "max_height": null,
            "align_content": null,
            "visibility": null,
            "align_self": null,
            "height": null,
            "min_height": null,
            "padding": null,
            "grid_auto_rows": null,
            "grid_gap": null,
            "max_width": null,
            "order": null,
            "_view_module_version": "1.2.0",
            "grid_template_areas": null,
            "object_position": null,
            "object_fit": null,
            "grid_auto_columns": null,
            "margin": null,
            "display": null,
            "left": null
          }
        },
        "8dbd19d4138a4ab79717b09da357ccc3": {
          "model_module": "@jupyter-widgets/controls",
          "model_name": "DescriptionStyleModel",
          "model_module_version": "1.5.0",
          "state": {
            "_view_name": "StyleView",
            "_model_name": "DescriptionStyleModel",
            "description_width": "",
            "_view_module": "@jupyter-widgets/base",
            "_model_module_version": "1.5.0",
            "_view_count": null,
            "_view_module_version": "1.2.0",
            "_model_module": "@jupyter-widgets/controls"
          }
        },
        "b19cace1459f4a688a70d2b18d8e1f2e": {
          "model_module": "@jupyter-widgets/base",
          "model_name": "LayoutModel",
          "model_module_version": "1.2.0",
          "state": {
            "_view_name": "LayoutView",
            "grid_template_rows": null,
            "right": null,
            "justify_content": null,
            "_view_module": "@jupyter-widgets/base",
            "overflow": null,
            "_model_module_version": "1.2.0",
            "_view_count": null,
            "flex_flow": null,
            "width": null,
            "min_width": null,
            "border": null,
            "align_items": null,
            "bottom": null,
            "_model_module": "@jupyter-widgets/base",
            "top": null,
            "grid_column": null,
            "overflow_y": null,
            "overflow_x": null,
            "grid_auto_flow": null,
            "grid_area": null,
            "grid_template_columns": null,
            "flex": null,
            "_model_name": "LayoutModel",
            "justify_items": null,
            "grid_row": null,
            "max_height": null,
            "align_content": null,
            "visibility": null,
            "align_self": null,
            "height": null,
            "min_height": null,
            "padding": null,
            "grid_auto_rows": null,
            "grid_gap": null,
            "max_width": null,
            "order": null,
            "_view_module_version": "1.2.0",
            "grid_template_areas": null,
            "object_position": null,
            "object_fit": null,
            "grid_auto_columns": null,
            "margin": null,
            "display": null,
            "left": null
          }
        }
      }
    }
  },
  "cells": [
    {
      "cell_type": "markdown",
      "metadata": {
        "id": "vjqem3CNzHeP"
      },
      "source": [
        "## Why Analog AI\n",
        "\n",
        "In-memory computing hardware increases the speed and energy-efficiency needed for the next steps in AI. Analog AI delivers radical performance improvements by combining compute and memory in a single device, eliminating the von Neumann bottleneck. \n",
        "Based on von Neumann architecture, conventional computers perform calculations by repeatedly transferring data between the memory and processor. These trips require time and energy, negatively impacting performance. This is known as the von Neumann bottleneck. \n",
        "\n",
        "<img src=\"https://github.com/IBM-AI-Hardware-Center/aihwkit-notebooks/blob/main/examples/imgs/processing-unit-and-computional-memory.png?raw=1\"  alt=\"Drawing\" style=\"width=50px;\"/> \n",
        "<img src=\"https://github.com/IBM-AI-Hardware-Center/aihwkit-notebooks/blob/main/examples/imgs/processing-unit-and-conventional-memory.png?raw=1\" alt=\"Drawing\" style=\"width=50px;\"> \n",
        "\n",
        "By leveraging the physical properties of in-memory computing devices (example: Phase Change Memory or PCM), computation happens at the same place where the data is stored, drastically reducing energy consumption. Because there is no movement of data, tasks can be performed in a fraction of the time and with much less energy. This is different from a conventional computer, where the data is transferred from the DRAM memory to the CPU every time a computation is done. For example, moving 64 bits of data from DRAM to CPU consumes 1-2nJ, which is 10,000–2,000,000 times more energy than is dissipated in a PCM device performing a multiplication operation (1-100fJ). Also, PCM does not consume power when the devices are inactive, and the data will be retained for up to 10 years even when the power supply is turned off. \n",
        "\n",
        "## The physics behind PCM\n",
        "\n",
        " With PCM, when an electrical pulse is applied to the material, it changes the [conductance](https://energyeducation.ca/encyclopedia/Electrical_conductance) of the device by switching the material between amorphous and crystalline phases. A low electrical pulse will make the PCM device more crystalline (less resistance), this pulse can be repeatedly applied to gradually decrease the device resistance. On the other hand, the material change from the crystalline phase (low resistance) to the amorphouse phase (high resistance) is quite abrupt and requires a high electrical pulse to RESET the device. Therefore, it is possible to records the states as a continuum of values between the two extremes, instead of encoding 0 or 1 like in the digital world.\n",
        "\n",
        "PCM devices have the ability to store synaptic weights in their analog conductance state. When PCM devices are arranged in a crossbar configuration, it allows to perform an analog matrix-vector multiplication in a single time step, exploiting the advantages of multi-level storage capability and Kirchhoff’s circuits laws. The figure below shows how PCM devices are arranged in a crossbar configuration. \n",
        "<center><img src=\"https://github.com/IBM-AI-Hardware-Center/aihwkit-notebooks/blob/main/examples/imgs/pcm-array.png?raw=1\" style=\"width:30%; height:30%\"/></center> \n",
        "\n",
        "This crossbar configuration is also referred to as an Analog tile. The PCM devices at each crossbard crosspoint are also referred to as Resitive Processing Units or RPU units as shown in the figure below:\n",
        "\n",
        "<center><img src=\"https://github.com/IBM-AI-Hardware-Center/aihwkit-notebooks/blob/main/examples/imgs/pcm_rpu_unit.png?raw=1\" style=\"width:30%; height:30%\"/></center> \n",
        "\n",
        "Besides PCM, other devices or materials can be used as resistive units or RPUs in the crossbar configuration. Examples include Resistive Random Access Memory (RRAM), Electro chemical Random Access Memory (ECRAM), Magnetic RAM (MRAM), photonics, etc. The weights of neural network are stored in the RPU units as confuctance values that are programmed on the chip through as series of electrical pulses. The conductance behavior changes from one analog device to another. \n",
        "\n",
        "\n",
        "## Analog AI and Neural Networks\n",
        "\n",
        "In deep learning inference, data propagation through multiple layers of a neural network involves a sequence of matrix multiplications, as each layer can be represented as a matrix of synaptic weights. On an Analog chip, these weights are stored in the conductance states of resistive devices such as PCM. The devices are arranged in crossbar arrays, creating an artificial neural network where all matrix multiplications are performed in-place in an analog manner. This structure allows inference to be performed using little energy with high areal density of synapses. An in-memory computing chip typically consists of multiple crossbar arrays of memory devices that communicate with each other (see figure below). A neural network layer can be implemented on (at least) one crossbar, in which the weights of that layer are stored in the charge or conductance state of the memory devices at the crosspoints.\n",
        "\n",
        "<center><img src=\"https://github.com/IBM-AI-Hardware-Center/aihwkit-notebooks/blob/main/examples/imgs/analog_Dnn.png?raw=1\" style=\"width:60%; height:60%\"/></center> \n",
        "\n",
        "\n",
        "\n",
        "## IBM Analog Hardware Acceleration Kit (AIHWKIT)\n",
        "\n",
        "The IBM Analog Hardware Acceleration Kit (AIHWKIT) is an open source Python toolkit for exploring and using the capabilities of in-memory computing devices such as PCM in the context of artificial intelligence. \n",
        "The pytorch integration consists of a series of primitives and features that allow using the toolkit within PyTorch. \n",
        "\n",
        "The github repository can be found at: https://github.com/IBM/aihwkit\n",
        "\n",
        "To learn more about Analog AI and the harware befind it, refer to this webpage: https://analog-ai-demo.mybluemix.net/hardware\n",
        "\n",
        "\n",
        "### Installing the AIHWKIT\n",
        "The first thing to do is to install the AIHHKIT and dependencies in your environment. The preferred way to install this package is by using the Python package index (please uncomment this line to install in your environment if not previously installed):"
      ]
    },
    {
      "cell_type": "code",
      "metadata": {
        "colab": {
          "base_uri": "https://localhost:8080/"
        },
        "id": "29ZMdvhfzHeV",
        "outputId": "8ae7463c-f0c2-4f45-e20f-f707988cba76"
      },
      "source": [
        "#!wget https://aihwkit-gpu-demo.s3.us-east.cloud-object-storage.appdomain.cloud/aihwkit-0.4.4-cp37-cp37m-manylinux2014_x86_64.whl\n",
        "!wget https://aihwkit-gpu-demo.s3.us-east.cloud-object-storage.appdomain.cloud/aihwkit-0.4.5-cp37-cp37m-manylinux2014_x86_64.whl\n",
        "!pip install aihwkit-0.4.5-cp37-cp37m-manylinux2014_x86_64.whl"
      ],
      "execution_count": 1,
      "outputs": [
        {
          "output_type": "stream",
          "name": "stdout",
          "text": [
            "--2021-12-04 19:31:15--  https://aihwkit-gpu-demo.s3.us-east.cloud-object-storage.appdomain.cloud/aihwkit-0.4.5-cp37-cp37m-manylinux2014_x86_64.whl\n",
            "Resolving aihwkit-gpu-demo.s3.us-east.cloud-object-storage.appdomain.cloud (aihwkit-gpu-demo.s3.us-east.cloud-object-storage.appdomain.cloud)... 169.63.118.98\n",
            "Connecting to aihwkit-gpu-demo.s3.us-east.cloud-object-storage.appdomain.cloud (aihwkit-gpu-demo.s3.us-east.cloud-object-storage.appdomain.cloud)|169.63.118.98|:443... connected.\n",
            "HTTP request sent, awaiting response... 200 OK\n",
            "Length: 259372814 (247M) [application/octet-stream]\n",
            "Saving to: ‘aihwkit-0.4.5-cp37-cp37m-manylinux2014_x86_64.whl’\n",
            "\n",
            "aihwkit-0.4.5-cp37- 100%[===================>] 247.36M  78.3MB/s    in 3.3s    \n",
            "\n",
            "2021-12-04 19:31:19 (74.5 MB/s) - ‘aihwkit-0.4.5-cp37-cp37m-manylinux2014_x86_64.whl’ saved [259372814/259372814]\n",
            "\n",
            "Processing ./aihwkit-0.4.5-cp37-cp37m-manylinux2014_x86_64.whl\n",
            "Requirement already satisfied: torchvision in /usr/local/lib/python3.7/dist-packages (from aihwkit==0.4.5) (0.11.1+cu111)\n",
            "Requirement already satisfied: torch==1.10.0 in /usr/local/lib/python3.7/dist-packages (from aihwkit==0.4.5) (1.10.0+cu111)\n",
            "Requirement already satisfied: numpy>=1.18 in /usr/local/lib/python3.7/dist-packages (from aihwkit==0.4.5) (1.19.5)\n",
            "Requirement already satisfied: protobuf<4,>=3.13.0 in /usr/local/lib/python3.7/dist-packages (from aihwkit==0.4.5) (3.17.3)\n",
            "Requirement already satisfied: scipy in /usr/local/lib/python3.7/dist-packages (from aihwkit==0.4.5) (1.4.1)\n",
            "Collecting requests<3,>=2.25\n",
            "  Downloading requests-2.26.0-py2.py3-none-any.whl (62 kB)\n",
            "\u001b[K     |████████████████████████████████| 62 kB 706 kB/s \n",
            "\u001b[?25hRequirement already satisfied: typing-extensions in /usr/local/lib/python3.7/dist-packages (from torch==1.10.0->aihwkit==0.4.5) (3.10.0.2)\n",
            "Requirement already satisfied: six>=1.9 in /usr/local/lib/python3.7/dist-packages (from protobuf<4,>=3.13.0->aihwkit==0.4.5) (1.15.0)\n",
            "Requirement already satisfied: charset-normalizer~=2.0.0 in /usr/local/lib/python3.7/dist-packages (from requests<3,>=2.25->aihwkit==0.4.5) (2.0.8)\n",
            "Requirement already satisfied: certifi>=2017.4.17 in /usr/local/lib/python3.7/dist-packages (from requests<3,>=2.25->aihwkit==0.4.5) (2021.10.8)\n",
            "Requirement already satisfied: urllib3<1.27,>=1.21.1 in /usr/local/lib/python3.7/dist-packages (from requests<3,>=2.25->aihwkit==0.4.5) (1.24.3)\n",
            "Requirement already satisfied: idna<4,>=2.5 in /usr/local/lib/python3.7/dist-packages (from requests<3,>=2.25->aihwkit==0.4.5) (2.10)\n",
            "Requirement already satisfied: pillow!=8.3.0,>=5.3.0 in /usr/local/lib/python3.7/dist-packages (from torchvision->aihwkit==0.4.5) (7.1.2)\n",
            "Installing collected packages: requests, aihwkit\n",
            "  Attempting uninstall: requests\n",
            "    Found existing installation: requests 2.23.0\n",
            "    Uninstalling requests-2.23.0:\n",
            "      Successfully uninstalled requests-2.23.0\n",
            "\u001b[31mERROR: pip's dependency resolver does not currently take into account all the packages that are installed. This behaviour is the source of the following dependency conflicts.\n",
            "google-colab 1.0.0 requires requests~=2.23.0, but you have requests 2.26.0 which is incompatible.\n",
            "datascience 0.10.6 requires folium==0.2.1, but you have folium 0.8.3 which is incompatible.\u001b[0m\n",
            "Successfully installed aihwkit-0.4.0 requests-2.26.0\n"
          ]
        }
      ]
    },
    {
      "cell_type": "code",
      "metadata": {
        "id": "qQL1FI40TBWi",
        "outputId": "65f1e0c6-307b-4b2e-9576-1c1e57fc8bc5",
        "colab": {
          "base_uri": "https://localhost:8080/"
        }
      },
      "source": [
        "!python --version\n",
        "!python3 --version\n",
        "!pip --version\n",
        "!nvcc --version\n",
        "!nvidia-smi"
      ],
      "execution_count": 1,
      "outputs": [
        {
          "output_type": "stream",
          "name": "stdout",
          "text": [
            "Python 3.7.12\n",
            "Python 3.7.12\n",
            "pip 21.1.3 from /usr/local/lib/python3.7/dist-packages/pip (python 3.7)\n",
            "nvcc: NVIDIA (R) Cuda compiler driver\n",
            "Copyright (c) 2005-2020 NVIDIA Corporation\n",
            "Built on Mon_Oct_12_20:09:46_PDT_2020\n",
            "Cuda compilation tools, release 11.1, V11.1.105\n",
            "Build cuda_11.1.TC455_06.29190527_0\n",
            "Sat Dec  4 16:04:38 2021       \n",
            "+-----------------------------------------------------------------------------+\n",
            "| NVIDIA-SMI 495.44       Driver Version: 460.32.03    CUDA Version: 11.2     |\n",
            "|-------------------------------+----------------------+----------------------+\n",
            "| GPU  Name        Persistence-M| Bus-Id        Disp.A | Volatile Uncorr. ECC |\n",
            "| Fan  Temp  Perf  Pwr:Usage/Cap|         Memory-Usage | GPU-Util  Compute M. |\n",
            "|                               |                      |               MIG M. |\n",
            "|===============================+======================+======================|\n",
            "|   0  Tesla K80           Off  | 00000000:00:04.0 Off |                    0 |\n",
            "| N/A   34C    P8    26W / 149W |      0MiB / 11441MiB |      0%      Default |\n",
            "|                               |                      |                  N/A |\n",
            "+-------------------------------+----------------------+----------------------+\n",
            "                                                                               \n",
            "+-----------------------------------------------------------------------------+\n",
            "| Processes:                                                                  |\n",
            "|  GPU   GI   CI        PID   Type   Process name                  GPU Memory |\n",
            "|        ID   ID                                                   Usage      |\n",
            "|=============================================================================|\n",
            "|  No running processes found                                                 |\n",
            "+-----------------------------------------------------------------------------+\n"
          ]
        }
      ]
    },
    {
      "cell_type": "markdown",
      "metadata": {
        "id": "wC9XIRtjzHeW"
      },
      "source": [
        "\n",
        "## LeNet5 Neural Network Examples\n",
        "\n",
        "In this notebook we will use the AIHWKIT to train a LeNet5 inspired analog network, as studied in the paper: https://www.frontiersin.org/articles/10.3389/fnins.2017.00538/full\n",
        "\n",
        "<img src=\"https://github.com/IBM-AI-Hardware-Center/aihwkit-notebooks/blob/main/examples/imgs/LeNet5_animation.png?raw=1\" style=\"width:40%; height:40%\"/> \n",
        "\n",
        "The architecture of the LeNet5 network is shown below:\n",
        "\n",
        "<img src=\"https://github.com/IBM-AI-Hardware-Center/aihwkit-notebooks/blob/main/examples/imgs/LeNet.png?raw=1\" style=\"width:40%; height:40%\"/> \n",
        "\n",
        "The network will be trained using the MNIST dataset, a collection of images representing the digits 0 to 9. \n",
        "\n",
        "From Kaggle: \"MNIST (\"Modified National Institute of Standards and Technology\") is the de facto “hello world” dataset of computer vision. Since its release in 1999, this classic dataset of handwritten images has served as the basis for benchmarking classification algorithms. As new machine learning techniques emerge, MNIST remains a reliable resource for researchers and learners alike.\"\n",
        "\n",
        "[Read more.](https://www.kaggle.com/c/digit-recognizer)\n",
        "\n",
        "<img src=\"https://github.com/IBM-AI-Hardware-Center/aihwkit-notebooks/blob/main/examples/imgs/MnistExamples.png?raw=1\" style=\"width:40%; height:40%\"/> \n"
      ]
    },
    {
      "cell_type": "markdown",
      "metadata": {
        "id": "PBr6Z5FHzHeX"
      },
      "source": [
        "## Analog layers\n",
        "If the library was installed correctly, you can use the following snippet for creating an analog layer and predicting the output. In the code snippet below AnalogLinea is the Analog equivalent to Linear PyTorch layer."
      ]
    },
    {
      "cell_type": "code",
      "metadata": {
        "colab": {
          "base_uri": "https://localhost:8080/"
        },
        "id": "8-uJPmFMzHeX",
        "outputId": "d7d2c003-dec8-4817-8316-31733d3403b0"
      },
      "source": [
        "from torch import Tensor\n",
        "from aihwkit.nn import AnalogLinear\n",
        "\n",
        "model = AnalogLinear(2, 2)\n",
        "model(Tensor([[0.1, 0.2], [0.3, 0.4]]))"
      ],
      "execution_count": 11,
      "outputs": [
        {
          "output_type": "execute_result",
          "data": {
            "text/plain": [
              "tensor([[-0.5647,  0.3765],\n",
              "        [-0.4706,  0.5176]], grad_fn=<AnalogFunctionBackward>)"
            ]
          },
          "metadata": {},
          "execution_count": 11
        }
      ]
    },
    {
      "cell_type": "markdown",
      "metadata": {
        "id": "jehSr26TzHeY"
      },
      "source": [
        "## RPU Configuration\n",
        "Now that the package is installed and running, we can start working on creating the LeNet5 network.\n",
        "\n",
        "AIHWKIT offers different Analog layers that can be used to build a network, including AnalogLinear and AnalogConv2d which will be the main layers used to build the present network. \n",
        "In addition to the standard input that are expected by the PyTorch layers (in_channels, out_channels, etc.) the analog layers also expect an rpu_config input which defines various settings of the RPU tile or the Analog hardware.\n",
        "\n",
        "Through the rpu_config parameters, the user can specify many of the hardware specs such as: device used in the cross-point array, bits used by the ADC/DAC converters, noise values and many other parameters. \n",
        "\n",
        "Additional details on the RPU configuration can be found at https://aihwkit.readthedocs.io/en/latest/using_simulator.html#rpu-configurations\n",
        "\n",
        "For this particular use case, we will define two RPU configurations that we will use later in the code. The first rpu_config uses an ideal device which is linear and symmetric in the conductance changes. The second rpu_config will use a realistic Resistive Random Access Memory (ReRAM) device with its non-idealities. We will use this two configurations to highlight their impacts on network accuracy.\n"
      ]
    },
    {
      "cell_type": "markdown",
      "metadata": {
        "id": "Fj5klmg6R5rW"
      },
      "source": [
        "### Using RPU configuration of an ideal Analog device\n",
        "Analog devices, when employed to implement synaptic weights of a neural network, need to meet certain specifications for the network performance to be comparable to that of a floating-point software implementation. Such specifications applicable to training a neural network on the MNIST classification benchmark were derived in [Gokmen & Vlasov, Front. Neurosci. 2016](https://www.frontiersin.org/articles/10.3389/fnins.2016.00333/full). The specifications may vary for different networks, datasets, and optimizers, and the AIHWKIT provides the capability to experiment with them. \n",
        "\n",
        "The ideal analog device is represented in the code snippet below using SingleRPUConfig(device=ConstantStepDevice()).\n",
        "This RPU configuration simulates a fictitious analog device array with idealized specifications, inspired by those listed in [Gokmen & Vlasov, Front. Neurosci. 2016](https://www.frontiersin.org/articles/10.3389/fnins.2016.00333/full). This device has an ideal linear increase of conductance with a number of pulses. It includes device-to-device variations as well as pulse-to-pulse fluctuations of conductance. The global asymmetry between positive and negative update and device-to-device asymmetry terms are set to zero. The number of steps was increased by ten-fold (to 10000 states) compared with that of Gokmen & Vlasov. \n",
        "\n",
        "<img src=\"https://github.com/IBM-AI-Hardware-Center/aihwkit-notebooks/blob/main/examples/imgs/idealizedDevice.png?raw=1\" style=\"width:40%; height:40%\"/> "
      ]
    },
    {
      "cell_type": "code",
      "metadata": {
        "id": "CGNLDA2IzHeZ"
      },
      "source": [
        "def create_rpu_config_1():\n",
        "\n",
        "    from aihwkit.simulator.configs import SingleRPUConfig\n",
        "    from aihwkit.simulator.configs.devices import ConstantStepDevice\n",
        "\n",
        "    rpu_config=SingleRPUConfig(device=ConstantStepDevice())\n",
        "\n",
        "    return rpu_config"
      ],
      "execution_count": 10,
      "outputs": []
    },
    {
      "cell_type": "markdown",
      "metadata": {
        "id": "ZsDVPOEaR5rY"
      },
      "source": [
        "### Using RPU configuration of a realistic ReRAM device\n",
        "Resistive random-access memory (ReRAM) is a non-volatile memory technology with tuneable conductance states that can be used for in-memory computing. The conductance change of a ReRAM device is bidirectional, that is, it is possible to both increase and decrease its conductance incrementally by applying suitable electrical pulses. This capability can be exploited to implement the backpropagation algorithm. The change of conductance in oxide ReRAM is attributed to change in the configuration of the current conducting filament which consists of oxygen vacancies in a metal oxide film. \n",
        "\n",
        "The simulated ReRAM device is based on the of [Gong et al](https://www.nature.com/articles/s41467-018-04485-1). This device was fabricated with hafnium oxide as the metal oxide switching layer. The preset captures the experimentally measured response of this device to 1000 positive and 1000 negative pulses (shown in Figure 3a), including the pulse-to-pulse fluctuations. The movement of the oxygen vacancies in response to electrical signals has a probabilistic nature and it emerges as inherent randomness in conductance changes. Realistic device-to-device variability is also included in the preset to appropriately simulate the behavior of an array of such devices. \n",
        "\n",
        "<img src=\"https://github.com/IBM-AI-Hardware-Center/aihwkit-notebooks/blob/main/examples/imgs/reram.png?raw=1\" style=\"width:40%; height:40%\"/> "
      ]
    },
    {
      "cell_type": "code",
      "metadata": {
        "id": "ePY8cOl5R5rY"
      },
      "source": [
        "def create_rpu_config_2():\n",
        "\n",
        "    from aihwkit.simulator.presets import ReRamSBPreset\n",
        "\n",
        "    rpu_config=ReRamSBPreset()\n",
        "\n",
        "    return rpu_config"
      ],
      "execution_count": 9,
      "outputs": []
    },
    {
      "cell_type": "markdown",
      "metadata": {
        "id": "soEwkJg3zHeZ"
      },
      "source": [
        "We can now use the defined rpu_config as input of the network model:"
      ]
    },
    {
      "cell_type": "code",
      "metadata": {
        "id": "oBu6VxsJzHea"
      },
      "source": [
        "from torch.nn import Tanh, MaxPool2d, LogSoftmax, Flatten\n",
        "from aihwkit.nn import AnalogConv2d, AnalogLinear, AnalogSequential\n",
        "\n",
        "def create_analog_network(rpu_config):\n",
        "    \n",
        "    channel = [16, 32, 512, 128]\n",
        "    model = AnalogSequential(\n",
        "        AnalogConv2d(in_channels=1, out_channels=channel[0], kernel_size=5, stride=1,\n",
        "                        rpu_config=rpu_config),\n",
        "        Tanh(),\n",
        "        MaxPool2d(kernel_size=2),\n",
        "        AnalogConv2d(in_channels=channel[0], out_channels=channel[1], kernel_size=5, stride=1,\n",
        "                        rpu_config=rpu_config),\n",
        "        Tanh(),\n",
        "        MaxPool2d(kernel_size=2),\n",
        "        Tanh(),\n",
        "        Flatten(),\n",
        "        AnalogLinear(in_features=channel[2], out_features=channel[3], rpu_config=rpu_config),\n",
        "        Tanh(),\n",
        "        AnalogLinear(in_features=channel[3], out_features=10, rpu_config=rpu_config),\n",
        "        LogSoftmax(dim=1)\n",
        "    )\n",
        "\n",
        "    return model"
      ],
      "execution_count": 8,
      "outputs": []
    },
    {
      "cell_type": "markdown",
      "metadata": {
        "id": "EW8NXVY1zHeb"
      },
      "source": [
        "## Analog Optimizer \n",
        "\n",
        "We will use the cross entropy criteria to calculate the loss and the Stochastic Gradient Descent (SGD) as optimizer:"
      ]
    },
    {
      "cell_type": "code",
      "metadata": {
        "id": "HXd7VR9szHeb"
      },
      "source": [
        "from torch.nn import CrossEntropyLoss\n",
        "\n",
        "criterion = CrossEntropyLoss()\n",
        "\n",
        "\n",
        "from aihwkit.optim import AnalogSGD\n",
        "\n",
        "def create_analog_optimizer(model):\n",
        "    \"\"\"Create the analog-aware optimizer.\n",
        "\n",
        "    Args:\n",
        "        model (nn.Module): model to be trained\n",
        "\n",
        "    Returns:\n",
        "        Optimizer: created analog optimizer\n",
        "    \"\"\"\n",
        "    \n",
        "    optimizer = AnalogSGD(model.parameters(), lr=0.01) # we will use a learning rate of 0.01 as in the paper\n",
        "    optimizer.regroup_param_groups(model)\n",
        "\n",
        "    return optimizer"
      ],
      "execution_count": 7,
      "outputs": []
    },
    {
      "cell_type": "markdown",
      "metadata": {
        "id": "iT_5bGZQzHec"
      },
      "source": [
        "## Training the network\n",
        "\n",
        "We can now write the train function which will optimize the network over the MNIST train dataset. The train_step function will take as input the images to train on, the model to train and the criterion and optimizer to train with:"
      ]
    },
    {
      "cell_type": "code",
      "metadata": {
        "colab": {
          "base_uri": "https://localhost:8080/"
        },
        "id": "cHicu1qWzHec",
        "outputId": "e00011a2-0e76-4cdf-f162-5e23a55d003c"
      },
      "source": [
        "from torch import device\n",
        "from aihwkit.simulator.rpu_base import cuda\n",
        "\n",
        "\n",
        "DEVICE = device('cuda' if cuda.is_compiled() else 'cpu')\n",
        "print('Running the simulation on: ', DEVICE)\n",
        "\n",
        "def train_step(train_data, model, criterion, optimizer):\n",
        "    \"\"\"Train network.\n",
        "\n",
        "    Args:\n",
        "        train_data (DataLoader): Validation set to perform the evaluation\n",
        "        model (nn.Module): Trained model to be evaluated\n",
        "        criterion (nn.CrossEntropyLoss): criterion to compute loss\n",
        "        optimizer (Optimizer): analog model optimizer\n",
        "\n",
        "    Returns:\n",
        "        train_dataset_loss: epoch loss of the train dataset\n",
        "    \"\"\"\n",
        "    total_loss = 0\n",
        "\n",
        "    model.train()\n",
        "\n",
        "    for images, labels in train_data:\n",
        "        images = images.to(DEVICE)\n",
        "        labels = labels.to(DEVICE)\n",
        "        optimizer.zero_grad()\n",
        "\n",
        "        # Add training Tensor to the model (input).\n",
        "        output = model(images)\n",
        "        loss = criterion(output, labels)\n",
        "\n",
        "        # Run training (backward propagation).\n",
        "        loss.backward()\n",
        "\n",
        "        # Optimize weights.\n",
        "        optimizer.step()\n",
        "        total_loss += loss.item() * images.size(0)\n",
        "    train_dataset_loss = total_loss / len(train_data.dataset)\n",
        "\n",
        "    return train_dataset_loss"
      ],
      "execution_count": 6,
      "outputs": [
        {
          "output_type": "stream",
          "name": "stdout",
          "text": [
            "Running the simulation on:  cuda\n"
          ]
        }
      ]
    },
    {
      "cell_type": "markdown",
      "metadata": {
        "id": "VwMUHVEpzHed"
      },
      "source": [
        "Since training can be quite time consuming it is nice to see the evolution of the training process by testing the model capabilities on a set of images that it has not seen before (test dataset). So we write a test_step function:"
      ]
    },
    {
      "cell_type": "code",
      "metadata": {
        "id": "i4-gBviwzHed"
      },
      "source": [
        "def test_step(validation_data, model, criterion):\n",
        "    \"\"\"Test trained network\n",
        "\n",
        "    Args:\n",
        "        validation_data (DataLoader): Validation set to perform the evaluation\n",
        "        model (nn.Module): Trained model to be evaluated\n",
        "        criterion (nn.CrossEntropyLoss): criterion to compute loss\n",
        "\n",
        "    Returns: \n",
        "        test_dataset_loss: epoch loss of the train_dataset\n",
        "        test_dataset_error: error of the test dataset\n",
        "        test_dataset_accuracy: accuracy of the test dataset\n",
        "    \"\"\"\n",
        "    total_loss = 0\n",
        "    predicted_ok = 0\n",
        "    total_images = 0\n",
        "\n",
        "    model.eval()\n",
        "\n",
        "    for images, labels in validation_data:\n",
        "        images = images.to(DEVICE)\n",
        "        labels = labels.to(DEVICE)\n",
        "\n",
        "        pred = model(images)\n",
        "        loss = criterion(pred, labels)\n",
        "        total_loss += loss.item() * images.size(0)\n",
        "\n",
        "        _, predicted = torch.max(pred.data, 1)\n",
        "        total_images += labels.size(0)\n",
        "        predicted_ok += (predicted == labels).sum().item()\n",
        "        test_dataset_accuracy = predicted_ok/total_images*100\n",
        "        test_dataset_error = (1-predicted_ok/total_images)*100\n",
        "\n",
        "    test_dataset_loss = total_loss / len(validation_data.dataset)\n",
        "\n",
        "    return test_dataset_loss, test_dataset_error, test_dataset_accuracy"
      ],
      "execution_count": 5,
      "outputs": []
    },
    {
      "cell_type": "markdown",
      "metadata": {
        "id": "8JWPjc0BzHee"
      },
      "source": [
        "To reach satisfactory accuracy levels, the train_step will have to be repeated mulitple time so we will implement a loop over a certain number of epochs:"
      ]
    },
    {
      "cell_type": "code",
      "metadata": {
        "id": "EU28l53ozHef"
      },
      "source": [
        "def training_loop(model, criterion, optimizer, train_data, validation_data, epochs=15, print_every=1):\n",
        "    \"\"\"Training loop.\n",
        "\n",
        "    Args:\n",
        "        model (nn.Module): Trained model to be evaluated\n",
        "        criterion (nn.CrossEntropyLoss): criterion to compute loss\n",
        "        optimizer (Optimizer): analog model optimizer\n",
        "        train_data (DataLoader): Validation set to perform the evaluation\n",
        "        validation_data (DataLoader): Validation set to perform the evaluation\n",
        "        epochs (int): global parameter to define epochs number\n",
        "        print_every (int): defines how many times to print training progress\n",
        "\n",
        "    Returns:\n",
        "        nn.Module, Optimizer, Tuple: model, optimizer, and a tuple of\n",
        "            lists of train losses, validation losses, and test error\n",
        "    \"\"\"\n",
        "    train_losses = []\n",
        "    valid_losses = []\n",
        "    test_error = []\n",
        "\n",
        "    # Train model\n",
        "    for epoch in range(0, epochs):\n",
        "        # Train_step\n",
        "        train_loss = train_step(train_data, model, criterion, optimizer)\n",
        "        train_losses.append(train_loss)\n",
        "\n",
        "        if epoch % print_every == (print_every - 1):\n",
        "            # Validate_step\n",
        "            with torch.no_grad():\n",
        "                valid_loss, error, accuracy = test_step(validation_data, model, criterion)\n",
        "                valid_losses.append(valid_loss)\n",
        "                test_error.append(error)\n",
        "\n",
        "            print(f'Epoch: {epoch}\\t'\n",
        "                  f'Train loss: {train_loss:.4f}\\t'\n",
        "                  f'Valid loss: {valid_loss:.4f}\\t'\n",
        "                  f'Test error: {error:.2f}%\\t'\n",
        "                  f'Test accuracy: {accuracy:.2f}%\\t')"
      ],
      "execution_count": 4,
      "outputs": []
    },
    {
      "cell_type": "markdown",
      "metadata": {
        "id": "odgAhMk2zHef"
      },
      "source": [
        "We will now download the MNIST dataset and prepare the images for the training and test:"
      ]
    },
    {
      "cell_type": "code",
      "metadata": {
        "id": "k_uhR68azHef"
      },
      "source": [
        "import os\n",
        "from torchvision import datasets, transforms\n",
        "PATH_DATASET = os.path.join('data', 'DATASET')\n",
        "os.makedirs(PATH_DATASET, exist_ok=True)\n",
        "\n",
        "def load_images():\n",
        "    \"\"\"Load images for train from torchvision datasets.\"\"\"\n",
        "\n",
        "    transform = transforms.Compose([transforms.ToTensor()])\n",
        "    train_set = datasets.MNIST(PATH_DATASET, download=True, train=True, transform=transform)\n",
        "    test_set = datasets.MNIST(PATH_DATASET, download=True, train=False, transform=transform)\n",
        "    train_data = torch.utils.data.DataLoader(train_set, batch_size=8, shuffle=True)\n",
        "    test_data = torch.utils.data.DataLoader(test_set, batch_size=8, shuffle=False)\n",
        "\n",
        "    return train_data, test_data"
      ],
      "execution_count": 3,
      "outputs": []
    },
    {
      "cell_type": "markdown",
      "metadata": {
        "id": "qk27OXgCzHeg"
      },
      "source": [
        "### Training using the idealized rpu configuration\n",
        "Put together all the code above to train the network on the idealized analog device. "
      ]
    },
    {
      "cell_type": "code",
      "metadata": {
        "colab": {
          "base_uri": "https://localhost:8080/",
          "height": 683,
          "referenced_widgets": [
            "1dbb83fec79940f3b1efdb5831a4745f",
            "64cc931a97304ef7a12d8837b17086e6",
            "83aca52687594054aae605e63791764c",
            "5096005a1ab14d46b899f3383351042e",
            "0b12ce2cc70e49a6800a5933638fa2d6",
            "3890cc6d5a32472780a6ef0a2ce5c5d6",
            "90eb7a11f4c445f59e3ca5663b81a8f3",
            "cda2ee5cb14b4700a8b18d4e99a22004",
            "4e1f8408a6f64be6acc2f6fd6725129b",
            "1edb812ad81e4471adef912f500af9bc",
            "5fe32eb5360644b79d7441de890b4879",
            "3baed2ab53464e74b51814cdfb239f64",
            "bf8aec51f0af4a4898cc303b547986e9",
            "a8a3f550b2fd46b9b62bf0bd0d22cb7c",
            "72399c76d6ae4b67beab662477af11e1",
            "c7efedcc3f01437b8939e22d7271f403",
            "59bc04bc6f3d45c6b6a73df92530a9ff",
            "45f57b340df14b2f9ff4391a4f8e1064",
            "67cfca124fd747dda79e42dcaaef57ed",
            "4eb0205e5a494ffc99381acd95702810",
            "0c471e5163854bf4a43fc2422aa6c570",
            "091766ad92f14de5aa2ae0b4e9820cc7",
            "ca41b36879ab492095d901a3b1f7d4ac",
            "754084511d594cc19c15fa99a22d9108",
            "dd308d8158f4430ab23047900100e673",
            "7e3533c0c6f245d7be3a5dbf777c9fee",
            "e0fbec2eef43432a802e4ad7dadde864",
            "1a7571cc787f41f6ad1daa5d0060e4cd",
            "63a03c790bb942f6a5a9c96c398de80a",
            "3f0ddf6a2e2a4070b767520f359374fa",
            "2f74e82ffdb24aa1a0e2409943560284",
            "7dc05976985b4a0e854f169f40eb3486",
            "458b6fee7ce24338adad7c8cc48d7db5",
            "50c6bed9f62341f19fee66e741a1de26",
            "978082d11ade4867b1f221c8d9123afc",
            "bc1d605f2a834fd4bfbdb2a8a7505d34",
            "7c4158abe9644b06a503e1b0fcda509e",
            "e99b9c59e5c345d38a3e5df2705273b8",
            "f82cb5461e77459699cb03b284b10182",
            "4247d2ba936d4b5ebfe2eedb509d7ac8",
            "7860c900d1734a4bba6603631a611b41",
            "44c5d2e09b754fc69401d53b62b96c09",
            "8dbd19d4138a4ab79717b09da357ccc3",
            "b19cace1459f4a688a70d2b18d8e1f2e"
          ]
        },
        "id": "b5OJ0uIbzHeg",
        "outputId": "65f8cdf3-ca21-4d24-ae8e-2cff635ac928"
      },
      "source": [
        "import torch\n",
        "\n",
        "torch.manual_seed(1)\n",
        "\n",
        "#load the dataset\n",
        "train_data, test_data = load_images()\n",
        "\n",
        "#create the rpu_config\n",
        "rpu_config = create_rpu_config_1()\n",
        "\n",
        "#create the model\n",
        "model = create_analog_network(rpu_config).to(DEVICE)\n",
        "\n",
        "#define the analog optimizer\n",
        "optimizer = create_analog_optimizer(model)\n",
        "\n",
        "training_loop(model, criterion, optimizer, train_data, test_data)"
      ],
      "execution_count": 12,
      "outputs": [
        {
          "output_type": "stream",
          "name": "stdout",
          "text": [
            "Downloading http://yann.lecun.com/exdb/mnist/train-images-idx3-ubyte.gz\n",
            "Downloading http://yann.lecun.com/exdb/mnist/train-images-idx3-ubyte.gz to data/DATASET/MNIST/raw/train-images-idx3-ubyte.gz\n"
          ]
        },
        {
          "output_type": "display_data",
          "data": {
            "application/vnd.jupyter.widget-view+json": {
              "model_id": "1dbb83fec79940f3b1efdb5831a4745f",
              "version_minor": 0,
              "version_major": 2
            },
            "text/plain": [
              "  0%|          | 0/9912422 [00:00<?, ?it/s]"
            ]
          },
          "metadata": {}
        },
        {
          "output_type": "stream",
          "name": "stdout",
          "text": [
            "Extracting data/DATASET/MNIST/raw/train-images-idx3-ubyte.gz to data/DATASET/MNIST/raw\n",
            "\n",
            "Downloading http://yann.lecun.com/exdb/mnist/train-labels-idx1-ubyte.gz\n",
            "Downloading http://yann.lecun.com/exdb/mnist/train-labels-idx1-ubyte.gz to data/DATASET/MNIST/raw/train-labels-idx1-ubyte.gz\n"
          ]
        },
        {
          "output_type": "display_data",
          "data": {
            "application/vnd.jupyter.widget-view+json": {
              "model_id": "3baed2ab53464e74b51814cdfb239f64",
              "version_minor": 0,
              "version_major": 2
            },
            "text/plain": [
              "  0%|          | 0/28881 [00:00<?, ?it/s]"
            ]
          },
          "metadata": {}
        },
        {
          "output_type": "stream",
          "name": "stdout",
          "text": [
            "Extracting data/DATASET/MNIST/raw/train-labels-idx1-ubyte.gz to data/DATASET/MNIST/raw\n",
            "\n",
            "Downloading http://yann.lecun.com/exdb/mnist/t10k-images-idx3-ubyte.gz\n",
            "Downloading http://yann.lecun.com/exdb/mnist/t10k-images-idx3-ubyte.gz to data/DATASET/MNIST/raw/t10k-images-idx3-ubyte.gz\n"
          ]
        },
        {
          "output_type": "display_data",
          "data": {
            "application/vnd.jupyter.widget-view+json": {
              "model_id": "ca41b36879ab492095d901a3b1f7d4ac",
              "version_minor": 0,
              "version_major": 2
            },
            "text/plain": [
              "  0%|          | 0/1648877 [00:00<?, ?it/s]"
            ]
          },
          "metadata": {}
        },
        {
          "output_type": "stream",
          "name": "stdout",
          "text": [
            "Extracting data/DATASET/MNIST/raw/t10k-images-idx3-ubyte.gz to data/DATASET/MNIST/raw\n",
            "\n",
            "Downloading http://yann.lecun.com/exdb/mnist/t10k-labels-idx1-ubyte.gz\n",
            "Downloading http://yann.lecun.com/exdb/mnist/t10k-labels-idx1-ubyte.gz to data/DATASET/MNIST/raw/t10k-labels-idx1-ubyte.gz\n"
          ]
        },
        {
          "output_type": "display_data",
          "data": {
            "application/vnd.jupyter.widget-view+json": {
              "model_id": "50c6bed9f62341f19fee66e741a1de26",
              "version_minor": 0,
              "version_major": 2
            },
            "text/plain": [
              "  0%|          | 0/4542 [00:00<?, ?it/s]"
            ]
          },
          "metadata": {}
        },
        {
          "output_type": "stream",
          "name": "stdout",
          "text": [
            "Extracting data/DATASET/MNIST/raw/t10k-labels-idx1-ubyte.gz to data/DATASET/MNIST/raw\n",
            "\n",
            "Epoch: 0\tTrain loss: 0.3669\tValid loss: 0.1195\tTest error: 3.57%\tTest accuracy: 96.43%\t\n",
            "Epoch: 1\tTrain loss: 0.1013\tValid loss: 0.0796\tTest error: 2.47%\tTest accuracy: 97.53%\t\n",
            "Epoch: 2\tTrain loss: 0.0750\tValid loss: 0.0589\tTest error: 1.91%\tTest accuracy: 98.09%\t\n",
            "Epoch: 3\tTrain loss: 0.0618\tValid loss: 0.0534\tTest error: 1.67%\tTest accuracy: 98.33%\t\n",
            "Epoch: 4\tTrain loss: 0.0531\tValid loss: 0.0499\tTest error: 1.67%\tTest accuracy: 98.33%\t\n",
            "Epoch: 5\tTrain loss: 0.0476\tValid loss: 0.0474\tTest error: 1.60%\tTest accuracy: 98.40%\t\n",
            "Epoch: 6\tTrain loss: 0.0436\tValid loss: 0.0472\tTest error: 1.45%\tTest accuracy: 98.55%\t\n",
            "Epoch: 7\tTrain loss: 0.0397\tValid loss: 0.0421\tTest error: 1.39%\tTest accuracy: 98.61%\t\n",
            "Epoch: 8\tTrain loss: 0.0366\tValid loss: 0.0409\tTest error: 1.33%\tTest accuracy: 98.67%\t\n",
            "Epoch: 9\tTrain loss: 0.0351\tValid loss: 0.0431\tTest error: 1.41%\tTest accuracy: 98.59%\t\n",
            "Epoch: 10\tTrain loss: 0.0319\tValid loss: 0.0410\tTest error: 1.40%\tTest accuracy: 98.60%\t\n",
            "Epoch: 11\tTrain loss: 0.0297\tValid loss: 0.0411\tTest error: 1.40%\tTest accuracy: 98.60%\t\n",
            "Epoch: 12\tTrain loss: 0.0281\tValid loss: 0.0396\tTest error: 1.34%\tTest accuracy: 98.66%\t\n",
            "Epoch: 13\tTrain loss: 0.0262\tValid loss: 0.0401\tTest error: 1.33%\tTest accuracy: 98.67%\t\n",
            "Epoch: 14\tTrain loss: 0.0236\tValid loss: 0.0401\tTest error: 1.47%\tTest accuracy: 98.53%\t\n"
          ]
        }
      ]
    },
    {
      "cell_type": "markdown",
      "metadata": {
        "id": "CAuWL5_LR5rg"
      },
      "source": [
        "### Training using the Analog ReRam device\n",
        "As shown by the code above Analog AI is capable of achieving high accuracy when using standard optimizer and algorithm with ideal devices. Now let's see what happens if standard SGD with the BP algorithm is used with a non-ideal device such as ReRAM"
      ]
    },
    {
      "cell_type": "code",
      "metadata": {
        "id": "3NyHNnA0R5rg",
        "outputId": "af42f588-242f-4669-e061-da8d3f3d74a4",
        "colab": {
          "base_uri": "https://localhost:8080/",
          "height": 236
        }
      },
      "source": [
        "import torch\n",
        "\n",
        "torch.manual_seed(1)\n",
        "\n",
        "#load the dataset\n",
        "train_data, test_data = load_images()\n",
        "\n",
        "#create the rpu_config\n",
        "rpu_config = create_rpu_config_2()\n",
        "\n",
        "#create the model\n",
        "model = create_analog_network(rpu_config).to(DEVICE)\n",
        "\n",
        "#define the analog optimizer\n",
        "optimizer = create_analog_optimizer(model)\n",
        "\n",
        "training_loop(model, criterion, optimizer, train_data, test_data)"
      ],
      "execution_count": 1,
      "outputs": [
        {
          "output_type": "error",
          "ename": "NameError",
          "evalue": "ignored",
          "traceback": [
            "\u001b[0;31m---------------------------------------------------------------------------\u001b[0m",
            "\u001b[0;31mNameError\u001b[0m                                 Traceback (most recent call last)",
            "\u001b[0;32m<ipython-input-1-e3082ac1cc83>\u001b[0m in \u001b[0;36m<module>\u001b[0;34m()\u001b[0m\n\u001b[1;32m      4\u001b[0m \u001b[0;34m\u001b[0m\u001b[0m\n\u001b[1;32m      5\u001b[0m \u001b[0;31m#load the dataset\u001b[0m\u001b[0;34m\u001b[0m\u001b[0;34m\u001b[0m\u001b[0;34m\u001b[0m\u001b[0m\n\u001b[0;32m----> 6\u001b[0;31m \u001b[0mtrain_data\u001b[0m\u001b[0;34m,\u001b[0m \u001b[0mtest_data\u001b[0m \u001b[0;34m=\u001b[0m \u001b[0mload_images\u001b[0m\u001b[0;34m(\u001b[0m\u001b[0;34m)\u001b[0m\u001b[0;34m\u001b[0m\u001b[0;34m\u001b[0m\u001b[0m\n\u001b[0m\u001b[1;32m      7\u001b[0m \u001b[0;34m\u001b[0m\u001b[0m\n\u001b[1;32m      8\u001b[0m \u001b[0;31m#create the rpu_config\u001b[0m\u001b[0;34m\u001b[0m\u001b[0;34m\u001b[0m\u001b[0;34m\u001b[0m\u001b[0m\n",
            "\u001b[0;31mNameError\u001b[0m: name 'load_images' is not defined"
          ]
        }
      ]
    },
    {
      "cell_type": "markdown",
      "metadata": {
        "id": "EGBih37xR5ri"
      },
      "source": [
        "In this case the same network configuration with same parameters is perfoming much worse than when using the ideal device, which underscores the importance of innovating not only at a device/circuit level but also at algorithmic level.\n",
        "\n",
        "In the [next notebook](https://github.com/IBM-AI-Hardware-Center/aihwkit-notebooks/blob/main/examples/analog_training_LeNet5_TT.ipynb) we will show how the Tiki-Taka algorithm, specifically designed for non-volatile memory and analog computing, is capable of achieving high performance also with non-ideal devices."
      ]
    }
  ]
}